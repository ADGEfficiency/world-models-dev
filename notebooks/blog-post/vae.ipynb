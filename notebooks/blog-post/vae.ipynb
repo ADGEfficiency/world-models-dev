{
 "cells": [
  {
   "cell_type": "markdown",
   "metadata": {},
   "source": [
    "sample data\n",
    "\n",
    "reconstruction error\n",
    "\n",
    "latent space into 2d\n"
   ]
  },
  {
   "cell_type": "code",
   "execution_count": 3,
   "metadata": {},
   "outputs": [],
   "source": [
    "import os\n",
    "\n",
    "import numpy as np"
   ]
  },
  {
   "cell_type": "code",
   "execution_count": 8,
   "metadata": {},
   "outputs": [],
   "source": [
    "name = 'observation'\n",
    "from worldmodels.params import home\n",
    "\n",
    "root = os.path.join(home, 'controller-samples')\n",
    "rollouts = os.listdir(root)\n",
    "\n",
    "# for rollout in rollouts:\n",
    "\n",
    "# for name in names\n",
    "name = 'observation'\n",
    "obs = np.load(\n",
    "    os.path.join(root, rollouts[0], '{}.npy'.format(name))\n",
    ")\n",
    "\n",
    "name = 'observation'\n",
    "obs = np.load(\n",
    "    os.path.join(root, rollouts[0], '{}.npy'.format(name))\n",
    ")"
   ]
  },
  {
   "cell_type": "code",
   "execution_count": null,
   "metadata": {},
   "outputs": [],
   "source": [
    "reconstruct = vae.forward(data)"
   ]
  },
  {
   "cell_type": "code",
   "execution_count": null,
   "metadata": {},
   "outputs": [],
   "source": [
    "348/2"
   ]
  },
  {
   "cell_type": "code",
   "execution_count": null,
   "metadata": {},
   "outputs": [],
   "source": [
    "axes.shape"
   ]
  },
  {
   "cell_type": "code",
   "execution_count": null,
   "metadata": {},
   "outputs": [],
   "source": [
    "n_sample = 2\n",
    "\n",
    "import matplotlib.pyplot as plt\n",
    "\n",
    "dpi = 120\n",
    "samples = np.random.randint(0, data.shape[0], size=n_sample)\n",
    "#for idx in idxs:\n",
    "\n",
    "samples = np.linspace(0, 999, 4).astype(int)\n",
    "\n",
    "base = (256, 128)\n",
    "scale = 5\n",
    "f, axes = plt.subplots(int(len(samples) / 2), 4, figsize=(scale*base[0]/dpi, scale*base[1]/dpi), dpi=dpi)\n",
    "\n",
    "for idx, sample in enumerate(samples):\n",
    "    obs = data[sample]\n",
    "    recon = vae.forward(np.expand_dims(obs, 0))\n",
    "    losses = vae.loss(obs)\n",
    "    \n",
    "    r_offset = 0\n",
    "    c_offset = 0\n",
    "    \n",
    "    if idx >= len(samples) / 2:\n",
    "        r_offset = -4\n",
    "        c_offset = 2\n",
    "    \n",
    "    axes[idx+r_offset, 0+c_offset].imshow(obs)\n",
    "    \n",
    "    axes[idx+r_offset, 1+c_offset].imshow(np.squeeze(recon))\n",
    "    \n",
    "    axes[idx+r_offset, 0+c_offset].set_title('step {} \\n true'.format(sample))\n",
    "    axes[idx+r_offset, 1+c_offset].set_title(' \\n reconstruction'.format(sample))\n",
    "\n",
    "for ax in axes.flatten():\n",
    "    ax.set_yticklabels([])\n",
    "    ax.set_xticklabels([])\n",
    "\n",
    "plt.subplots_adjust(wspace=0.1, hspace=0.3)\n",
    "#f.tight_layout()\n",
    "f.show()"
   ]
  },
  {
   "cell_type": "code",
   "execution_count": null,
   "metadata": {},
   "outputs": [],
   "source": []
  }
 ],
 "metadata": {
  "kernelspec": {
   "display_name": "Python 3",
   "language": "python",
   "name": "python3"
  },
  "language_info": {
   "codemirror_mode": {
    "name": "ipython",
    "version": 3
   },
   "file_extension": ".py",
   "mimetype": "text/x-python",
   "name": "python",
   "nbconvert_exporter": "python",
   "pygments_lexer": "ipython3",
   "version": "3.6.8"
  }
 },
 "nbformat": 4,
 "nbformat_minor": 2
}
