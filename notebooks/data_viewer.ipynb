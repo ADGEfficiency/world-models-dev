{
 "cells": [
  {
   "cell_type": "code",
   "execution_count": 1,
   "metadata": {},
   "outputs": [
    {
     "name": "stdout",
     "output_type": "stream",
     "text": [
      "\u001b[1m\u001b[36mcontrol\u001b[m\u001b[m                \u001b[1m\u001b[36mrandom-rollouts\u001b[m\u001b[m        \u001b[1m\u001b[36mtf-record-opt-single\u001b[m\u001b[m\n",
      "\u001b[1m\u001b[36mlatent-stats\u001b[m\u001b[m           \u001b[1m\u001b[36mtest-save-mem\u001b[m\u001b[m          \u001b[1m\u001b[36mvae-training\u001b[m\u001b[m\n",
      "\u001b[1m\u001b[36mmemory-training\u001b[m\u001b[m        \u001b[1m\u001b[36mtf-record-opt-multiple\u001b[m\u001b[m\n"
     ]
    }
   ],
   "source": [
    "!ls ~/world-models-experiments"
   ]
  },
  {
   "cell_type": "code",
   "execution_count": 4,
   "metadata": {},
   "outputs": [],
   "source": [
    "from worldmodels.dataset.tf_records import parse_random_rollouts\n",
    "import tensorflow as tf"
   ]
  },
  {
   "cell_type": "code",
   "execution_count": 6,
   "metadata": {},
   "outputs": [],
   "source": [
    "s3_records = ['/Users/adam/world-models-experiments/random-rollouts/process1-episode5286484.tfrecord']\n",
    "raw_dataset = tf.data.TFRecordDataset(s3_records[0])\n",
    "dataset = raw_dataset.map(parse_random_rollouts)\n",
    "\n",
    "for num, data in enumerate(dataset.take(2)):\n",
    "    pass"
   ]
  },
  {
   "cell_type": "code",
   "execution_count": 8,
   "metadata": {},
   "outputs": [],
   "source": [
    "from worldmodels.dataset.car_racing import CarRacingWrapper"
   ]
  },
  {
   "cell_type": "code",
   "execution_count": 12,
   "metadata": {},
   "outputs": [
    {
     "name": "stdout",
     "output_type": "stream",
     "text": [
      "Track generation: 1052..1329 -> 277-tiles track\n"
     ]
    }
   ],
   "source": [
    "env = CarRacingWrapper()\n",
    "\n",
    "env.reset()\n",
    "\n",
    "o, r, d, i = env.step(env.action_space.sample(), save_img=1)"
   ]
  },
  {
   "cell_type": "code",
   "execution_count": null,
   "metadata": {},
   "outputs": [],
   "source": []
  }
 ],
 "metadata": {
  "kernelspec": {
   "display_name": "Python 3",
   "language": "python",
   "name": "python3"
  },
  "language_info": {
   "codemirror_mode": {
    "name": "ipython",
    "version": 3
   },
   "file_extension": ".py",
   "mimetype": "text/x-python",
   "name": "python",
   "nbconvert_exporter": "python",
   "pygments_lexer": "ipython3",
   "version": "3.6.8"
  }
 },
 "nbformat": 4,
 "nbformat_minor": 2
}
