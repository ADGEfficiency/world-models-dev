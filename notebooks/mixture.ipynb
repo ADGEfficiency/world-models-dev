{
 "cells": [
  {
   "cell_type": "code",
   "execution_count": 2,
   "metadata": {},
   "outputs": [],
   "source": [
    "import tensorflow as tf"
   ]
  },
  {
   "cell_type": "markdown",
   "metadata": {},
   "source": [
    "http://blog.otoro.net/2015/11/24/mixture-density-networks-with-tensorflow/"
   ]
  },
  {
   "cell_type": "code",
   "execution_count": 48,
   "metadata": {},
   "outputs": [],
   "source": [
    "inputs = tf.keras.Input(shape=(9,))\n",
    "\n",
    "# def get_mixture_coef(output):\n",
    "pi, sigma, mu = tf.split(inputs, 3, 1)\n",
    "\n",
    "#  put the pi's through a softmax\n",
    "#  remove the max\n",
    "max_pi = tf.reduce_max(pi, 1, keepdims=True)\n",
    "sub_pi = tf.subtract(max_pi, pi)\n",
    "exp_pi = tf.exp(sub_pi)\n",
    "\n",
    "out_pi = tf.divide(exp_pi, tf.reduce_sum(exp_pi, 1, keepdims=True))\n",
    "\n",
    "#  keep the standard deviations positive\n",
    "sigma = tf.exp(sigma)\n",
    "\n",
    "model = tf.keras.Model(inputs=inputs, outputs=[out_pi])\n"
   ]
  },
  {
   "cell_type": "code",
   "execution_count": 50,
   "metadata": {},
   "outputs": [
    {
     "name": "stdout",
     "output_type": "stream",
     "text": [
      "[[0.33615883 0.21676866 0.0570262  0.1307976  0.88508549 0.7695359\n",
      "  0.4376828  0.33869612 0.47209762]]\n",
      "0.28995657\n",
      "0.3267258\n",
      "0.38331756\n"
     ]
    }
   ],
   "source": [
    "sample = np.random.rand(1,9)\n",
    "o = model.predict(sample)\n",
    "\n",
    "#  prints out each output at a time (inputs[0], inputs[1], pi[0], pi[1] etc)\\\n",
    "print(sample)\n",
    "for out in o:\n",
    "    for e in out:\n",
    "        print(e)"
   ]
  },
  {
   "cell_type": "code",
   "execution_count": 17,
   "metadata": {},
   "outputs": [
    {
     "data": {
      "text/plain": [
       "0.9999999701976776"
      ]
     },
     "execution_count": 17,
     "metadata": {},
     "output_type": "execute_result"
    }
   ],
   "source": [
    "sum(out)"
   ]
  },
  {
   "cell_type": "code",
   "execution_count": 28,
   "metadata": {},
   "outputs": [],
   "source": [
    "import numpy as np\n",
    "\n",
    "import math\n",
    "mean = np.array([10,20]).reshape(1, -1)\n",
    "sigma = np.array([1,1]).reshape(1, -1)\n",
    "sample = np.array([9,21]).reshape(1, -1)\n",
    "\n",
    "alphas = np.array([0.2, 0.8]).reshape(1, -1)  #  already softmaxed etc\n",
    "\n",
    "def make_gaussian_kernel(mean, sigma, sample):\n",
    "    constant = 1 / math.sqrt(2 * math.pi)\n",
    "    gaussian_kernel = np.subtract(sample, mean)\n",
    "    gaussian_kernel = np.square(np.divide(gaussian_kernel, sigma))\n",
    "    gaussian_kernel = - 1/2 * gaussian_kernel\n",
    "    conditional_probabilities = np.divide(np.exp(gaussian_kernel), sigma) * constant\n",
    "    return conditional_probabilities"
   ]
  },
  {
   "cell_type": "code",
   "execution_count": 29,
   "metadata": {},
   "outputs": [
    {
     "data": {
      "text/plain": [
       "array([[0.24197072, 0.24197072]])"
      ]
     },
     "execution_count": 29,
     "metadata": {},
     "output_type": "execute_result"
    }
   ],
   "source": [
    "make_gaussian_kernel(mean, sigma, sample)\n",
    "#  this is returning the conditional density of the target vector (as per Bishop 1994)\n",
    "#  or is it a likelihood?"
   ]
  },
  {
   "cell_type": "code",
   "execution_count": 30,
   "metadata": {},
   "outputs": [
    {
     "name": "stdout",
     "output_type": "stream",
     "text": [
      "1.4189385332046727\n",
      "[[0.04839414 0.19357658]]\n",
      "[[0.24197072]]\n",
      "[[1.41893853]]\n",
      "1.4189385332046727\n"
     ]
    }
   ],
   "source": [
    "#  loss\n",
    "\n",
    "conditional_probabilities = make_gaussian_kernel(mean, sigma, sample)\n",
    "print(loss)\n",
    "loss = np.multiply(conditional_probabilities, alphas)\n",
    "print(loss)\n",
    "loss = np.sum(loss, 1, keepdims=True)\n",
    "print(loss)\n",
    "loss = -np.log(loss)\n",
    "print(loss)\n",
    "loss = np.mean(loss)\n",
    "\n",
    "print(loss)"
   ]
  },
  {
   "cell_type": "code",
   "execution_count": 22,
   "metadata": {},
   "outputs": [
    {
     "data": {
      "text/plain": [
       "(1, 2)"
      ]
     },
     "execution_count": 22,
     "metadata": {},
     "output_type": "execute_result"
    }
   ],
   "source": [
    "sample.shape"
   ]
  },
  {
   "cell_type": "code",
   "execution_count": null,
   "metadata": {},
   "outputs": [],
   "source": []
  }
 ],
 "metadata": {
  "kernelspec": {
   "display_name": "Python 3",
   "language": "python",
   "name": "python3"
  },
  "language_info": {
   "codemirror_mode": {
    "name": "ipython",
    "version": 3
   },
   "file_extension": ".py",
   "mimetype": "text/x-python",
   "name": "python",
   "nbconvert_exporter": "python",
   "pygments_lexer": "ipython3",
   "version": "3.6.8"
  }
 },
 "nbformat": 4,
 "nbformat_minor": 2
}
