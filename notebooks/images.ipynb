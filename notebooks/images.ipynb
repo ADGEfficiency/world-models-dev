{
 "cells": [
  {
   "cell_type": "code",
   "execution_count": 1,
   "metadata": {},
   "outputs": [],
   "source": [
    "from PIL import Image\n",
    "import numpy as np"
   ]
  },
  {
   "cell_type": "code",
   "execution_count": 2,
   "metadata": {},
   "outputs": [],
   "source": [
    "from gym.envs.box2d.car_racing import CarRacing"
   ]
  },
  {
   "cell_type": "code",
   "execution_count": 15,
   "metadata": {},
   "outputs": [
    {
     "name": "stdout",
     "output_type": "stream",
     "text": [
      "Track generation: 913..1141 -> 228-tiles track\n",
      "retry to generate track (normal if there are not many of this messages)\n",
      "Track generation: 1132..1419 -> 287-tiles track\n",
      "\n",
      "102.0\n",
      "\n",
      "60.3501880787037\n",
      "\n",
      "73.63429542824075\n",
      "\n",
      "81.9150390625\n",
      "\n",
      "85.33011429398148\n",
      "\n",
      "88.6310402199074\n",
      "\n",
      "91.84932002314815\n",
      "\n",
      "95.47714120370371\n",
      "\n",
      "99.12962962962963\n",
      "\n",
      "102.44137008101852\n",
      "\n",
      "105.95442708333333\n",
      "\n",
      "109.38487413194444\n",
      "\n",
      "112.83112702546296\n",
      "\n",
      "116.37377025462963\n",
      "\n",
      "118.62521701388889\n",
      "\n",
      "119.1642433449074\n",
      "\n",
      "119.16040943287037\n",
      "\n",
      "118.89706307870371\n",
      "\n",
      "118.74569589120371\n",
      "\n",
      "118.45540364583333\n",
      "\n",
      "118.49526186342592\n",
      "\n",
      "118.29691116898148\n",
      "\n",
      "118.12008101851852\n",
      "\n",
      "117.71082899305556\n",
      "\n",
      "117.62966579861111\n",
      "\n",
      "117.54286024305556\n",
      "\n",
      "117.55410879629629\n",
      "\n",
      "117.75759548611111\n",
      "\n",
      "117.79622395833333\n",
      "\n",
      "117.96321614583333\n",
      "\n",
      "117.89496527777777\n",
      "\n",
      "117.99573206018519\n",
      "\n",
      "117.98169849537037\n",
      "\n",
      "117.91453269675925\n",
      "\n",
      "117.71003327546296\n",
      "\n",
      "117.75871672453704\n",
      "\n",
      "117.62905092592592\n",
      "\n",
      "117.31391059027777\n",
      "\n",
      "117.04792390046296\n",
      "\n",
      "117.01063368055556\n",
      "\n",
      "116.88661024305556\n",
      "\n",
      "116.76584201388889\n",
      "\n",
      "116.62706163194444\n",
      "\n",
      "116.35344328703704\n",
      "\n",
      "116.40943287037037\n",
      "\n",
      "116.44567418981481\n",
      "\n",
      "116.4279152199074\n",
      "\n",
      "116.30002170138889\n",
      "\n",
      "116.13151041666667\n",
      "\n",
      "116.20203993055556\n"
     ]
    }
   ],
   "source": [
    "env = CarRacing()\n",
    "\n",
    "obs = env.reset()\n",
    "\n",
    "for _ in range(50):\n",
    "    obs, rew, done, info = env.step(env.action_space.sample())\n",
    "    \n",
    "    #  https://github.com/openai/gym/issues/976\n",
    "    env.viewer.window.dispatch_events()\n",
    "    \n",
    "    obs = obs.astype(np.uint8)\n",
    "    image = Image.fromarray(obs).resize((64, 64))\n",
    "    #  save somewhere - it is useful\n",
    "    image.save('sample.png')\n",
    "    \n",
    "    print('')\n",
    "    print(np.mean(obs))    "
   ]
  },
  {
   "cell_type": "code",
   "execution_count": 12,
   "metadata": {},
   "outputs": [
    {
     "data": {
      "text/plain": [
       "(96, 96, 3)"
      ]
     },
     "execution_count": 12,
     "metadata": {},
     "output_type": "execute_result"
    }
   ],
   "source": [
    "obs.shape"
   ]
  },
  {
   "cell_type": "code",
   "execution_count": 13,
   "metadata": {},
   "outputs": [
    {
     "data": {
      "text/plain": [
       "array([-0.50926558,  0.42053947,  0.55736879])"
      ]
     },
     "execution_count": 13,
     "metadata": {},
     "output_type": "execute_result"
    }
   ],
   "source": [
    "env.action_space.sample()"
   ]
  },
  {
   "cell_type": "code",
   "execution_count": null,
   "metadata": {},
   "outputs": [],
   "source": []
  }
 ],
 "metadata": {
  "kernelspec": {
   "display_name": "Python 3",
   "language": "python",
   "name": "python3"
  },
  "language_info": {
   "codemirror_mode": {
    "name": "ipython",
    "version": 3
   },
   "file_extension": ".py",
   "mimetype": "text/x-python",
   "name": "python",
   "nbconvert_exporter": "python",
   "pygments_lexer": "ipython3",
   "version": "3.6.8"
  }
 },
 "nbformat": 4,
 "nbformat_minor": 2
}
