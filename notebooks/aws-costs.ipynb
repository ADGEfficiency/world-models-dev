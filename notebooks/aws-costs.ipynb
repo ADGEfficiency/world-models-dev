{
 "cells": [
  {
   "cell_type": "markdown",
   "metadata": {},
   "source": [
    "## Analysis of my AWS costs for the project"
   ]
  },
  {
   "cell_type": "code",
   "execution_count": null,
   "metadata": {},
   "outputs": [],
   "source": [
    "import pandas as pd\n",
    "\n",
    "inst = pd.read_csv('../../blog-post/instance-costs.csv', parse_dates=True)\n",
    "inst = inst.iloc[1:, :] # drop total col\n",
    "\n",
    "inst = inst.fillna(0)\n",
    "\n",
    "inst"
   ]
  },
  {
   "cell_type": "code",
   "execution_count": null,
   "metadata": {},
   "outputs": [],
   "source": [
    "summary = inst.sum(axis=0).to_frame()\n",
    "\n",
    "summary = summary.iloc[1:, :]\n",
    "summary.columns = ['Cost [$]']\n",
    "\n",
    "summary.index = [str(i)[:-3] for i in summary.index]\n",
    "\n",
    "metadata = pd.DataFrame({\n",
    "    'm5.16xlarge': ['controller', 64, 256, 0],\n",
    "    'p3.2xlarge': ['vae-and-memory', 8, 61, 16],\n",
    "    'p2.xlarge': ['vae-and-memory', 4, 61, 12],\n",
    "    \n",
    "    'c5.2xlarge': ['sample-experience', 8, 16, 0],\n",
    "    'c5.4xlarge': ['sample-experience', 16, 32, 0],\n",
    "    \n",
    "    'm4.16xlarge': ['sample-latent-stats', 16, 64, 0],\n",
    "    \n",
    "    't2.xlarge': ['misc', 4, 16, 0]\n",
    "\n",
    "}).T\n",
    "\n",
    "metadata.columns = ['component', 'cpu [num]', 'memory [GB]', 'gpu [GB]']\n",
    "\n",
    "summary = summary.drop('No Instance Type', axis=0)\n",
    "summary = summary.drop('Total cost ', axis=0)\n",
    "\n",
    "summary"
   ]
  },
  {
   "cell_type": "code",
   "execution_count": null,
   "metadata": {},
   "outputs": [],
   "source": [
    "metadata.head()"
   ]
  },
  {
   "cell_type": "code",
   "execution_count": null,
   "metadata": {},
   "outputs": [],
   "source": [
    "out = pd.concat([metadata, summary], axis=1, sort=False).sort_values('Cost [$]', ascending=False)\n",
    "\n",
    "out = out.dropna(axis=0)\n",
    "\n",
    "out"
   ]
  },
  {
   "cell_type": "code",
   "execution_count": null,
   "metadata": {},
   "outputs": [],
   "source": [
    "out.groupby('component').sum().sort_values('Cost [$]', ascending=False)"
   ]
  },
  {
   "cell_type": "code",
   "execution_count": null,
   "metadata": {},
   "outputs": [],
   "source": [
    "# want per component, per month!"
   ]
  },
  {
   "cell_type": "code",
   "execution_count": null,
   "metadata": {},
   "outputs": [],
   "source": [
    "inst"
   ]
  },
  {
   "cell_type": "code",
   "execution_count": null,
   "metadata": {},
   "outputs": [],
   "source": [
    "metadata"
   ]
  },
  {
   "cell_type": "code",
   "execution_count": null,
   "metadata": {},
   "outputs": [],
   "source": [
    "from collections import defaultdict\n",
    "component_per_month = defaultdict(list)\n",
    "\n",
    "for instance in metadata.index:\n",
    "    component = metadata.loc[instance, 'component']\n",
    "    component_per_month[component].append(inst.loc[:, instance+'($)'])\n",
    "\n",
    "for k, v in component_per_month.items():\n",
    "    component_per_month[k] = sum(v)\n",
    "    \n",
    "component_per_month = pd.DataFrame(component_per_month)\n",
    "component_per_month.index = inst.loc[:, 'InstanceType']\n",
    "\n",
    "component_per_month"
   ]
  },
  {
   "cell_type": "code",
   "execution_count": null,
   "metadata": {},
   "outputs": [],
   "source": [
    "component_per_month.plot(kind='bar')"
   ]
  },
  {
   "cell_type": "code",
   "execution_count": null,
   "metadata": {},
   "outputs": [],
   "source": [
    "serv = pd.read_csv('../blog-post/service-costs.csv')\n",
    "serv = serv.iloc[1:, :]\n",
    "\n",
    "serv = serv.fillna(0)\n",
    "\n",
    "serv = serv.set_index('Service', drop=True)\n",
    "serv"
   ]
  },
  {
   "cell_type": "code",
   "execution_count": null,
   "metadata": {},
   "outputs": [],
   "source": [
    "per_serv = serv.sum(axis=0).to_frame()\n",
    "per_serv = per_serv.iloc[1:, :]\n",
    "\n",
    "per_serv"
   ]
  },
  {
   "cell_type": "code",
   "execution_count": null,
   "metadata": {},
   "outputs": [],
   "source": [
    "# put agent numbers on here\n",
    "month = serv.sum(axis=1).to_frame()\n",
    "\n",
    "month.index = serv.index\n",
    "\n",
    "month.plot(kind='bar')"
   ]
  },
  {
   "cell_type": "code",
   "execution_count": null,
   "metadata": {},
   "outputs": [],
   "source": []
  }
 ],
 "metadata": {
  "kernelspec": {
   "display_name": "Python 3",
   "language": "python",
   "name": "python3"
  },
  "language_info": {
   "codemirror_mode": {
    "name": "ipython",
    "version": 3
   },
   "file_extension": ".py",
   "mimetype": "text/x-python",
   "name": "python",
   "nbconvert_exporter": "python",
   "pygments_lexer": "ipython3",
   "version": "3.6.8"
  }
 },
 "nbformat": 4,
 "nbformat_minor": 2
}
