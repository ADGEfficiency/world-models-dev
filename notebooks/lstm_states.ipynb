{
 "cells": [
  {
   "cell_type": "code",
   "execution_count": 1,
   "metadata": {},
   "outputs": [],
   "source": [
    "import numpy as np\n",
    "import tensorflow as tf\n",
    "\n",
    "np.random.seed(42)\n",
    "tf.random.set_seed(42)"
   ]
  },
  {
   "cell_type": "code",
   "execution_count": 2,
   "metadata": {},
   "outputs": [],
   "source": [
    "input_dim=3\n",
    "output_dim=3\n",
    "num_timesteps=2\n",
    "batch_size=10\n",
    "nodes=100\n",
    "\n",
    "input_layer = tf.keras.Input(shape=(num_timesteps, input_dim), batch_size=batch_size)\n",
    "\n",
    "cell = tf.keras.layers.LSTMCell(\n",
    "    nodes,\n",
    "    kernel_initializer='glorot_uniform',\n",
    "    recurrent_initializer='glorot_uniform',\n",
    "    bias_initializer='zeros',\n",
    ")\n",
    "\n",
    "lstm = tf.keras.layers.RNN(\n",
    "    cell,\n",
    "    return_state=True,\n",
    "    return_sequences=True,\n",
    "    stateful=True,\n",
    ")\n",
    "\n",
    "lstm_out, hidden_state, cell_state = lstm(input_layer)\n",
    "\n",
    "output = tf.keras.layers.Dense(output_dim)(lstm_out)"
   ]
  },
  {
   "cell_type": "code",
   "execution_count": 3,
   "metadata": {},
   "outputs": [],
   "source": [
    "mdl = tf.keras.Model(\n",
    "    inputs=input_layer,\n",
    "    outputs=[output]\n",
    ")"
   ]
  },
  {
   "cell_type": "code",
   "execution_count": 4,
   "metadata": {},
   "outputs": [
    {
     "name": "stdout",
     "output_type": "stream",
     "text": [
      "-0.008424904\n",
      "-0.015708266\n"
     ]
    }
   ],
   "source": [
    "x = np.random.rand(batch_size, num_timesteps, input_dim).astype(np.float32)\n",
    "out = mdl(x)\n",
    "print(np.mean(out))\n",
    "\n",
    "out = mdl(x)\n",
    "print(np.mean(out))"
   ]
  },
  {
   "cell_type": "code",
   "execution_count": 5,
   "metadata": {},
   "outputs": [
    {
     "name": "stdout",
     "output_type": "stream",
     "text": [
      "-0.008424904\n"
     ]
    }
   ],
   "source": [
    "lstm.reset_states(states=[np.zeros((batch_size, nodes)), np.zeros((batch_size, nodes))])\n",
    "out = mdl(x)\n",
    "print(np.mean(out))"
   ]
  },
  {
   "cell_type": "code",
   "execution_count": 6,
   "metadata": {},
   "outputs": [
    {
     "name": "stdout",
     "output_type": "stream",
     "text": [
      "-0.16377065\n"
     ]
    }
   ],
   "source": [
    "lstm.reset_states(states=[np.ones((batch_size, nodes)), np.ones((batch_size, nodes))])\n",
    "out = mdl(x)\n",
    "print(np.mean(out))"
   ]
  },
  {
   "cell_type": "code",
   "execution_count": null,
   "metadata": {},
   "outputs": [],
   "source": []
  }
 ],
 "metadata": {
  "kernelspec": {
   "display_name": "Python 3",
   "language": "python",
   "name": "python3"
  },
  "language_info": {
   "codemirror_mode": {
    "name": "ipython",
    "version": 3
   },
   "file_extension": ".py",
   "mimetype": "text/x-python",
   "name": "python",
   "nbconvert_exporter": "python",
   "pygments_lexer": "ipython3",
   "version": "3.6.8"
  }
 },
 "nbformat": 4,
 "nbformat_minor": 2
}
