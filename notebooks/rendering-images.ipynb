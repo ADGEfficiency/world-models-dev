{
 "cells": [
  {
   "cell_type": "code",
   "execution_count": 1,
   "metadata": {},
   "outputs": [],
   "source": [
    "import numpy as np\n",
    "\n",
    "obs = np.load('/Users/adam/git/world-models/saves/one/obs.npy')"
   ]
  },
  {
   "cell_type": "code",
   "execution_count": 2,
   "metadata": {},
   "outputs": [
    {
     "data": {
      "text/plain": [
       "dtype('float64')"
      ]
     },
     "execution_count": 2,
     "metadata": {},
     "output_type": "execute_result"
    }
   ],
   "source": [
    "obs.dtype"
   ]
  },
  {
   "cell_type": "code",
   "execution_count": 3,
   "metadata": {},
   "outputs": [
    {
     "data": {
      "text/plain": [
       "<matplotlib.image.AxesImage at 0x1198009e8>"
      ]
     },
     "execution_count": 3,
     "metadata": {},
     "output_type": "execute_result"
    }
   ],
   "source": [
    "import matplotlib.pyplot as plt\n",
    "f, a = plt.subplots()\n",
    "proc = ((255*obs).round()).astype(np.uint8)\n",
    "\n",
    "from PIL import Image\n",
    "from scipy.misc import imresize as resize\n",
    "img = Image.fromarray(proc[5, :, :, :]).resize((64*3, 64*3))\n",
    "a.imshow(img)"
   ]
  },
  {
   "cell_type": "code",
   "execution_count": 4,
   "metadata": {},
   "outputs": [
    {
     "data": {
      "text/plain": [
       "<matplotlib.image.AxesImage at 0x1391807b8>"
      ]
     },
     "execution_count": 4,
     "metadata": {},
     "output_type": "execute_result"
    },
    {
     "data": {
      "image/png": "[encoded data removed]",
      "text/plain": [
       "<Figure size 432x288 with 1 Axes>"
      ]
     },
     "metadata": {
      "needs_background": "light"
     },
     "output_type": "display_data"
    }
   ],
   "source": [
    "f, a = plt.subplots()\n",
    "a.imshow(obs[5, :, :, :])"
   ]
  },
  {
   "cell_type": "markdown",
   "metadata": {},
   "source": [
    "## Comparing image processing"
   ]
  },
  {
   "cell_type": "code",
   "execution_count": 5,
   "metadata": {},
   "outputs": [],
   "source": [
    "\n",
    "from gym.envs.box2d.car_racing import CarRacing\n",
    "\n",
    "env = CarRacing()"
   ]
  },
  {
   "cell_type": "code",
   "execution_count": 6,
   "metadata": {},
   "outputs": [
    {
     "name": "stdout",
     "output_type": "stream",
     "text": [
      "Track generation: 1213..1525 -> 312-tiles track\n"
     ]
    }
   ],
   "source": [
    "o = env.reset()\n",
    "\n",
    "for _ in range(100):\n",
    "    o, r, no, d = env.step(env.action_space.sample())\n",
    "    env.viewer.window.dispatch_events()\n",
    "env.close()"
   ]
  },
  {
   "cell_type": "code",
   "execution_count": 7,
   "metadata": {},
   "outputs": [
    {
     "data": {
      "text/plain": [
       "<matplotlib.image.AxesImage at 0x139ed3a58>"
      ]
     },
     "execution_count": 7,
     "metadata": {},
     "output_type": "execute_result"
    },
    {
     "data": {
      "image/png": "[encoded data removed]",
      "text/plain": [
       "<Figure size 432x288 with 1 Axes>"
      ]
     },
     "metadata": {
      "needs_background": "light"
     },
     "output_type": "display_data"
    }
   ],
   "source": [
    "f, a = plt.subplots()\n",
    "a.imshow(o[:, :, :])"
   ]
  },
  {
   "cell_type": "code",
   "execution_count": 12,
   "metadata": {},
   "outputs": [
    {
     "data": {
      "text/plain": [
       "<matplotlib.image.AxesImage at 0x1231a09b0>"
      ]
     },
     "execution_count": 12,
     "metadata": {},
     "output_type": "execute_result"
    },
    {
     "data": {
      "image/png": "[encoded data removed]",
      "text/plain": [
       "<Figure size 432x288 with 1 Axes>"
      ]
     },
     "metadata": {
      "needs_background": "light"
     },
     "output_type": "display_data"
    }
   ],
   "source": [
    "def process_frame(frame, screen_size=None, vertical_cut=-1, max_val=255, save_img=False):\n",
    "    \"\"\" could be two functions  - resizing and saving\"\"\"\n",
    "    frame = frame[:vertical_cut, :, :]\n",
    "    frame = Image.fromarray(frame, mode='RGB')\n",
    "\n",
    "    obs = frame.resize(screen_size)\n",
    "    if save_img:\n",
    "        frame.save(results_dir+'/debug/raw_frame{}.png'.format(save_img), 'PNG')\n",
    "        obs.save(results_dir+'/debug/processed().png'.format(save_img), 'PNG')\n",
    "    return np.array(obs) / max_val\n",
    "\n",
    "f, a = plt.subplots()\n",
    "a.imshow(process_frame(o, screen_size=(64, 64), vertical_cut=84))"
   ]
  },
  {
   "cell_type": "code",
   "execution_count": 8,
   "metadata": {},
   "outputs": [
    {
     "data": {
      "text/plain": [
       "<matplotlib.image.AxesImage at 0x122e25a90>"
      ]
     },
     "execution_count": 8,
     "metadata": {},
     "output_type": "execute_result"
    },
    {
     "data": {
      "image/png": "[encoded data removed]",
      "text/plain": [
       "<Figure size 432x288 with 1 Axes>"
      ]
     },
     "metadata": {
      "needs_background": "light"
     },
     "output_type": "display_data"
    }
   ],
   "source": [
    "def process_frame(frame, screen_size=None, vertical_cut=-1, max_val=255, save_img=False):\n",
    "    \"\"\" could be two functions  - resizing and saving\"\"\"\n",
    "    frame = frame[:vertical_cut, :, :]\n",
    "    frame = Image.fromarray(frame, mode='RGB')\n",
    "\n",
    "    obs = frame.resize(screen_size, Image.BILINEAR)\n",
    "    if save_img:\n",
    "        frame.save(results_dir+'/debug/raw_frame{}.png'.format(save_img), 'PNG')\n",
    "        obs.save(results_dir+'/debug/processed().png'.format(save_img), 'PNG')\n",
    "    return np.array(obs) / max_val\n",
    "\n",
    "f, a = plt.subplots()\n",
    "a.imshow(process_frame(o, screen_size=(64, 64), vertical_cut=84))"
   ]
  },
  {
   "cell_type": "code",
   "execution_count": 10,
   "metadata": {},
   "outputs": [
    {
     "name": "stderr",
     "output_type": "stream",
     "text": [
      "/Users/adam/.pyenv/versions/3.6.8/envs/world-models/lib/python3.6/site-packages/ipykernel_launcher.py:3: DeprecationWarning: `imresize` is deprecated!\n",
      "`imresize` is deprecated in SciPy 1.0.0, and will be removed in 1.3.0.\n",
      "Use Pillow instead: ``numpy.array(Image.fromarray(arr).resize())``.\n",
      "  This is separate from the ipykernel package so we can avoid doing imports until\n"
     ]
    },
    {
     "data": {
      "text/plain": [
       "<matplotlib.image.AxesImage at 0x1229ff160>"
      ]
     },
     "execution_count": 10,
     "metadata": {},
     "output_type": "execute_result"
    },
    {
     "data": {
      "image/png": "[encoded data removed]",
      "text/plain": [
       "<Figure size 432x288 with 1 Axes>"
      ]
     },
     "metadata": {
      "needs_background": "light"
     },
     "output_type": "display_data"
    }
   ],
   "source": [
    "def _process_frame(frame):\n",
    "    obs = frame[0:84, :, :].astype(np.float)/255.0\n",
    "    obs = resize(obs, (64, 64))\n",
    "    obs = ((1.0 - obs) * 255).round().astype(np.uint8)\n",
    "    return obs\n",
    "\n",
    "f, a = plt.subplots()\n",
    "a.imshow(_process_frame(o))"
   ]
  },
  {
   "cell_type": "code",
   "execution_count": null,
   "metadata": {},
   "outputs": [],
   "source": []
  }
 ],
 "metadata": {
  "kernelspec": {
   "display_name": "Python 3",
   "language": "python",
   "name": "python3"
  },
  "language_info": {
   "codemirror_mode": {
    "name": "ipython",
    "version": 3
   },
   "file_extension": ".py",
   "mimetype": "text/x-python",
   "name": "python",
   "nbconvert_exporter": "python",
   "pygments_lexer": "ipython3",
   "version": "3.6.8"
  }
 },
 "nbformat": 4,
 "nbformat_minor": 2
}
