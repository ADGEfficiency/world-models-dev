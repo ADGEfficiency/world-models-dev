{
 "cells": [
  {
   "cell_type": "code",
   "execution_count": 1,
   "metadata": {},
   "outputs": [],
   "source": [
    "import numpy as np\n",
    "import tensorflow as tf\n",
    "\n",
    "np.random.seed(42)\n",
    "tf.random.set_seed(42)"
   ]
  },
  {
   "cell_type": "code",
   "execution_count": 2,
   "metadata": {},
   "outputs": [],
   "source": [
    "class Model():\n",
    "    \"\"\" car racing defaults \"\"\"\n",
    "    def __init__(\n",
    "            self,\n",
    "    ):\n",
    "        self.nodes = nodes\n",
    "        self.batch_size = batch_size\n",
    "\n",
    "        input_layer = tf.keras.Input(shape=(num_timesteps, input_dim), batch_size=batch_size)\n",
    "\n",
    "        cell = tf.keras.layers.LSTMCell(\n",
    "            nodes,\n",
    "            kernel_initializer='glorot_uniform',\n",
    "            recurrent_initializer='glorot_uniform',\n",
    "            bias_initializer='zeros',\n",
    "        )\n",
    "\n",
    "        self.lstm = tf.keras.layers.RNN(\n",
    "            cell,\n",
    "            return_state=True,\n",
    "            return_sequences=True,\n",
    "            stateful=False\n",
    "        )\n",
    "\n",
    "        lstm_out, hidden_state, cell_state = self.lstm(input_layer)\n",
    "        output = tf.keras.layers.Dense(output_dim)(lstm_out)\n",
    "\n",
    "        self.model = tf.keras.Model(inputs=input_layer, outputs=[output, hidden_state, cell_state])\n",
    "\n",
    "    def get_zero_initial_state(self, inputs):\n",
    "        return [\n",
    "            tf.zeros((inputs.shape[0], self.nodes)),\n",
    "            tf.zeros((inputs.shape[0], self.nodes))\n",
    "        ]\n",
    "\n",
    "    def get_initial_state(self, inputs):\n",
    "        return self.initial_state\n",
    "\n",
    "    def __call__(self, inputs, states=None):\n",
    "        \"\"\" hack to deal with setting initial state \"\"\"\n",
    "        if states is None:\n",
    "            self.lstm.get_initial_state = self.get_zero_initial_state\n",
    "\n",
    "        else:\n",
    "            self.initial_state = states\n",
    "            self.lstm.get_initial_state = self.get_initial_state\n",
    "\n",
    "        return self.model(inputs)"
   ]
  },
  {
   "cell_type": "code",
   "execution_count": 3,
   "metadata": {},
   "outputs": [
    {
     "data": {
      "text/plain": [
       "-0.012305749"
      ]
     },
     "execution_count": 3,
     "metadata": {},
     "output_type": "execute_result"
    }
   ],
   "source": [
    "input_dim = 3\n",
    "output_dim = 3\n",
    "num_timesteps = 2\n",
    "batch_size = 10\n",
    "nodes = 100\n",
    "\n",
    "mdl = Model()\n",
    "\n",
    "x = np.random.rand(1, num_timesteps, input_dim).astype(np.float32)\n",
    "\n",
    "out, hidden_state, cell_state = mdl(x)\n",
    "np.mean(out)"
   ]
  },
  {
   "cell_type": "code",
   "execution_count": 4,
   "metadata": {},
   "outputs": [
    {
     "data": {
      "text/plain": [
       "-0.012305749"
      ]
     },
     "execution_count": 4,
     "metadata": {},
     "output_type": "execute_result"
    }
   ],
   "source": [
    "out, hidden_state, cell_state = mdl(x)\n",
    "\n",
    "np.mean(out)"
   ]
  },
  {
   "cell_type": "code",
   "execution_count": 5,
   "metadata": {},
   "outputs": [
    {
     "data": {
      "text/plain": [
       "-0.16376868"
      ]
     },
     "execution_count": 5,
     "metadata": {},
     "output_type": "execute_result"
    }
   ],
   "source": [
    "out, hidden_state, cell_state = mdl(x, states=[tf.ones((1, nodes)), tf.ones((1, nodes))] )\n",
    "\n",
    "np.mean(out)"
   ]
  },
  {
   "cell_type": "code",
   "execution_count": 6,
   "metadata": {},
   "outputs": [
    {
     "data": {
      "text/plain": [
       "TensorShape([1, 2, 3])"
      ]
     },
     "execution_count": 6,
     "metadata": {},
     "output_type": "execute_result"
    }
   ],
   "source": [
    "out.shape"
   ]
  },
  {
   "cell_type": "code",
   "execution_count": null,
   "metadata": {},
   "outputs": [],
   "source": []
  }
 ],
 "metadata": {
  "kernelspec": {
   "display_name": "Python 3",
   "language": "python",
   "name": "python3"
  },
  "language_info": {
   "codemirror_mode": {
    "name": "ipython",
    "version": 3
   },
   "file_extension": ".py",
   "mimetype": "text/x-python",
   "name": "python",
   "nbconvert_exporter": "python",
   "pygments_lexer": "ipython3",
   "version": "3.6.8"
  }
 },
 "nbformat": 4,
 "nbformat_minor": 2
}
